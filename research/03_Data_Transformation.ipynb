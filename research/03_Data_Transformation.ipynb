{
 "cells": [
  {
   "cell_type": "code",
   "execution_count": 1,
   "metadata": {},
   "outputs": [],
   "source": [
    "import os"
   ]
  },
  {
   "cell_type": "code",
   "execution_count": 2,
   "metadata": {},
   "outputs": [
    {
     "data": {
      "text/plain": [
       "'c:\\\\Users\\\\N Ramaraju\\\\Desktop\\\\Projects\\\\LLM-Text-Detection\\\\research'"
      ]
     },
     "execution_count": 2,
     "metadata": {},
     "output_type": "execute_result"
    }
   ],
   "source": [
    "%pwd"
   ]
  },
  {
   "cell_type": "code",
   "execution_count": 3,
   "metadata": {},
   "outputs": [],
   "source": [
    "os.chdir(\"../\")"
   ]
  },
  {
   "cell_type": "code",
   "execution_count": 4,
   "metadata": {},
   "outputs": [
    {
     "data": {
      "text/plain": [
       "'c:\\\\Users\\\\N Ramaraju\\\\Desktop\\\\Projects\\\\LLM-Text-Detection'"
      ]
     },
     "execution_count": 4,
     "metadata": {},
     "output_type": "execute_result"
    }
   ],
   "source": [
    "%pwd"
   ]
  },
  {
   "cell_type": "code",
   "execution_count": 5,
   "metadata": {},
   "outputs": [],
   "source": [
    "from dataclasses import dataclass\n",
    "from pathlib import Path\n",
    "\n",
    "\n",
    "@dataclass(frozen=True)\n",
    "class DataTransformationConfig:\n",
    "    root_dir: Path\n",
    "    data_path: Path"
   ]
  },
  {
   "cell_type": "code",
   "execution_count": 6,
   "metadata": {},
   "outputs": [],
   "source": [
    "from LLM_text_detection.constants import *\n",
    "from LLM_text_detection.utils.common import *\n"
   ]
  },
  {
   "cell_type": "code",
   "execution_count": 7,
   "metadata": {},
   "outputs": [],
   "source": [
    "class ConfigurationManager:\n",
    "    def __init__(\n",
    "        self,\n",
    "        config_filepath = CONFIG_FILE_PATH,\n",
    "        params_filepath = PARAMS_FILE_PATH,\n",
    "        schema_filepath = SCHEMA_FILE_PATH):\n",
    "\n",
    "        self.config = read_yaml(config_filepath)\n",
    "        self.params = read_yaml(params_filepath)\n",
    "        self.schema = read_yaml(schema_filepath)\n",
    "\n",
    "        create_directories([self.config.artifacts_root])\n",
    "\n",
    "\n",
    "    \n",
    "    def get_data_transformation_config(self) -> DataTransformationConfig:\n",
    "        config = self.config.data_transformation\n",
    "\n",
    "        create_directories([config.root_dir])\n",
    "\n",
    "        data_transformation_config = DataTransformationConfig(\n",
    "            root_dir=config.root_dir,\n",
    "            data_path=config.data_path,\n",
    "        )\n",
    "\n",
    "        return data_transformation_config"
   ]
  },
  {
   "cell_type": "code",
   "execution_count": 10,
   "metadata": {},
   "outputs": [
    {
     "name": "stdout",
     "output_type": "stream",
     "text": [
      "[2024-06-22 11:27:16,079: INFO: utils: NumExpr defaulting to 8 threads.]\n"
     ]
    }
   ],
   "source": [
    "import os\n",
    "from LLM_text_detection import logger\n",
    "import pandas as pd\n",
    "from sklearn.feature_extraction.text import TfidfVectorizer\n",
    "from sklearn.model_selection import train_test_split\n",
    "from sklearn.preprocessing import LabelEncoder\n"
   ]
  },
  {
   "cell_type": "code",
   "execution_count": 11,
   "metadata": {},
   "outputs": [],
   "source": [
    "class DataTransformation:\n",
    "    def __init__(self, config: DataTransformationConfig):\n",
    "        self.config = config\n",
    "\n",
    "    \n",
    "    ## Note: You can add different data transformation techniques such as Scaler, PCA and all\n",
    "    #You can perform all kinds of EDA in ML cycle here before passing this data to the model\n",
    "\n",
    "    # I am only adding train_test_spliting cz this data is already cleaned up\n",
    "\n",
    "    def Data_transformation(self):\n",
    "        data = pd.read_csv(self.config.data_path)\n",
    "        # Initialize the TF-IDF Vectorizer\n",
    "        tfidf_vectorizer = TfidfVectorizer(max_features=5000)\n",
    "        logger.info(\"Vectorizer is loaded\")       \n",
    "        # Tokenize and create TF-IDF vectors for the 'text' column of the dataset\n",
    "        tfidf_vectors = tfidf_vectorizer.fit_transform(data['text'])\n",
    "        logger.info(\"Vectorizer Transformed Data\")        \n",
    "        # Convert TF-IDF vectors to a DataFrame for easy analysis\n",
    "        tfidf_df = pd.DataFrame(tfidf_vectors.toarray(), columns=tfidf_vectorizer.get_feature_names_out())\n",
    "        logger.info(\"Vectorization is completed\")\n",
    "        # Split the data into training and testing sets\n",
    "        X = tfidf_df.values  # Features (TF-IDF vectors)\n",
    "        y = data['label'].values  # Target variable\n",
    "        \n",
    "        X_train, X_test, y_train, y_test = train_test_split(X, y, test_size=0.2, random_state=42)\n",
    "        logger.info(\"Spliting of Data is Completed\")        \n",
    "        # Encode target labels (0 and 1) using LabelEncoder\n",
    "        label_encoder = LabelEncoder()\n",
    "        y_train_encoded = label_encoder.fit_transform(y_train)\n",
    "        y_test_encoded = label_encoder.transform(y_test)\n",
    "        logger.info(\"Label Encoder is Done\")        \n",
    "        # Save the transformed data to CSV files\n",
    "        pd.DataFrame(X_train).to_csv(os.path.join(self.config.root_dir,'x_train.csv'), index=False)\n",
    "        pd.DataFrame(X_test).to_csv(os.path.join(self.config.root_dir,'x_test.csv'), index=False)\n",
    "        pd.DataFrame(y_train_encoded).to_csv(os.path.join(self.config.root_dir,'y_train_encoded.csv'), index=False)\n",
    "        pd.DataFrame(y_test_encoded).to_csv(os.path.join(self.config.root_dir,'y_test_encoded.csv'), index=False)\n",
    "\n",
    "    def train_test_spliting(self):\n",
    "        data = pd.read_csv(self.config.data_path)\n",
    "\n",
    "        # Split the data into training and test sets. (0.75, 0.25) split.\n",
    "        train, test = train_test_split(data)\n",
    "\n",
    "        train.to_csv(os.path.join(self.config.root_dir, \"train.csv\"),index = False)\n",
    "        test.to_csv(os.path.join(self.config.root_dir, \"test.csv\"),index = False)\n",
    "\n",
    "        logger.info(\"Splited data into training and test sets\")\n",
    "        logger.info(train.shape)\n",
    "        logger.info(test.shape)\n",
    "\n",
    "        print(\"Train Shape>>>\",train.shape)\n",
    "        print(\"Test Shape>>>\",test.shape)"
   ]
  },
  {
   "cell_type": "code",
   "execution_count": 12,
   "metadata": {},
   "outputs": [
    {
     "name": "stdout",
     "output_type": "stream",
     "text": [
      "[2024-06-22 11:27:20,526: INFO: common: yaml file: config\\config.yaml loaded successfully]\n",
      "[2024-06-22 11:27:20,528: INFO: common: yaml file: params.yaml loaded successfully]\n",
      "[2024-06-22 11:27:20,529: INFO: common: yaml file: schema.yaml loaded successfully]\n",
      "[2024-06-22 11:27:20,531: INFO: common: created directory at: artifacts]\n",
      "[2024-06-22 11:27:20,532: INFO: common: created directory at: artifacts/data_transformation]\n",
      "[2024-06-22 11:27:21,670: INFO: 3711323853: Vectorizer is loaded]\n",
      "[2024-06-22 11:27:30,577: INFO: 3711323853: Vectorizer Transformed Data]\n",
      "[2024-06-22 11:27:34,962: INFO: 3711323853: Vectorization is completed]\n",
      "[2024-06-22 11:27:45,588: INFO: 3711323853: Spliting of Data is Completed]\n",
      "[2024-06-22 11:27:45,790: INFO: 3711323853: Label Encoder is Done]\n"
     ]
    }
   ],
   "source": [
    "try:\n",
    "    config = ConfigurationManager()\n",
    "    data_transformation_config = config.get_data_transformation_config()\n",
    "    data_transformation = DataTransformation(config=data_transformation_config)\n",
    "    data_transformation.Data_transformation()\n",
    "except Exception as e:\n",
    "    raise e"
   ]
  },
  {
   "cell_type": "code",
   "execution_count": null,
   "metadata": {},
   "outputs": [],
   "source": []
  }
 ],
 "metadata": {
  "kernelspec": {
   "display_name": "Python 3",
   "language": "python",
   "name": "python3"
  },
  "language_info": {
   "codemirror_mode": {
    "name": "ipython",
    "version": 3
   },
   "file_extension": ".py",
   "mimetype": "text/x-python",
   "name": "python",
   "nbconvert_exporter": "python",
   "pygments_lexer": "ipython3",
   "version": "3.11.4"
  }
 },
 "nbformat": 4,
 "nbformat_minor": 2
}
