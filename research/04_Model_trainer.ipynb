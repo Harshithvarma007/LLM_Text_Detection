{
 "cells": [
  {
   "cell_type": "code",
   "execution_count": 10,
   "metadata": {},
   "outputs": [],
   "source": [
    "import os"
   ]
  },
  {
   "cell_type": "code",
   "execution_count": 11,
   "metadata": {},
   "outputs": [
    {
     "data": {
      "text/plain": [
       "'c:\\\\Users\\\\N Ramaraju\\\\Desktop\\\\Projects\\\\LLM-Text-Detection\\\\research'"
      ]
     },
     "execution_count": 11,
     "metadata": {},
     "output_type": "execute_result"
    }
   ],
   "source": [
    "%pwd"
   ]
  },
  {
   "cell_type": "code",
   "execution_count": 12,
   "metadata": {},
   "outputs": [],
   "source": [
    "os.chdir(\"../\")"
   ]
  },
  {
   "cell_type": "code",
   "execution_count": 13,
   "metadata": {},
   "outputs": [
    {
     "data": {
      "text/plain": [
       "'c:\\\\Users\\\\N Ramaraju\\\\Desktop\\\\Projects\\\\LLM-Text-Detection'"
      ]
     },
     "execution_count": 13,
     "metadata": {},
     "output_type": "execute_result"
    }
   ],
   "source": [
    "%pwd"
   ]
  },
  {
   "cell_type": "code",
   "execution_count": 14,
   "metadata": {},
   "outputs": [],
   "source": [
    "from dataclasses import dataclass\n",
    "from pathlib import Path\n",
    "\n",
    "\n",
    "@dataclass(frozen=True)\n",
    "class ModelTrainerConfig:\n",
    "    root_dir: Path\n",
    "    x_test_path: Path\n",
    "    x_train_path: Path\n",
    "    y_test_encoded_path: Path\n",
    "    y_train_encoded_path: Path\n",
    "    model_name: str\n",
    "    learning_rate: float\n",
    "    loss: str\n",
    "    metrics: list\n",
    "    target_column: str"
   ]
  },
  {
   "cell_type": "code",
   "execution_count": 15,
   "metadata": {},
   "outputs": [],
   "source": [
    "from LLM_text_detection.utils.common import *\n",
    "from LLM_text_detection.constants import *"
   ]
  },
  {
   "cell_type": "code",
   "execution_count": 16,
   "metadata": {},
   "outputs": [],
   "source": [
    "class ConfigurationManager:\n",
    "    def __init__(\n",
    "        self,\n",
    "        config_filepath = CONFIG_FILE_PATH,\n",
    "        params_filepath = PARAMS_FILE_PATH,\n",
    "        schema_filepath = SCHEMA_FILE_PATH):\n",
    "\n",
    "        self.config = read_yaml(config_filepath)\n",
    "        self.params = read_yaml(params_filepath)\n",
    "        self.schema = read_yaml(schema_filepath)\n",
    "\n",
    "        create_directories([self.config.artifacts_root])\n",
    "\n",
    "\n",
    "    def get_model_trainer_config(self) -> ModelTrainerConfig:\n",
    "        config = self.config.model_trainer\n",
    "        params = self.params.Simple_nn\n",
    "        schema =  self.schema.TARGET_COLUMN\n",
    "\n",
    "        create_directories([config.root_dir])\n",
    "\n",
    "        model_trainer_config = ModelTrainerConfig(\n",
    "            root_dir= config.root_dir,\n",
    "            x_test_path= config.x_test_path,\n",
    "            x_train_path= config.x_train_path,\n",
    "            y_test_encoded_path= config.y_test_encoded_path,\n",
    "            y_train_encoded_path= config.y_train_encoded_path,\n",
    "            model_name= config.model_name,\n",
    "            learning_rate= params.learning_rate,\n",
    "            loss= params.loss,\n",
    "            metrics= params.metrics,\n",
    "            target_column= schema.Label\n",
    "        )\n",
    "\n",
    "        return model_trainer_config"
   ]
  },
  {
   "cell_type": "code",
   "execution_count": 17,
   "metadata": {},
   "outputs": [],
   "source": [
    "import pandas as pd\n",
    "import os\n",
    "from  LLM_text_detection import logger\n",
    "import pickle\n",
    "import pandas as pd\n",
    "from tensorflow.keras.models import Sequential\n",
    "from tensorflow.keras.layers import Dense, Dropout\n",
    "from tensorflow.keras.optimizers import Adam"
   ]
  },
  {
   "cell_type": "code",
   "execution_count": 18,
   "metadata": {},
   "outputs": [],
   "source": [
    "class ModelTrainer:\n",
    "    def __init__(self, config: ModelTrainerConfig):\n",
    "        self.config = config\n",
    "\n",
    "    def train_model(self):\n",
    "        # Load the training and testing data from the CSV files using self.config\n",
    "        X_train = pd.read_csv(self.config.x_train_path).values\n",
    "        X_test = pd.read_csv(self.config.x_test_path).values\n",
    "        y_train_encoded = pd.read_csv(self.config.y_train_encoded_path).values.flatten()\n",
    "        y_test_encoded = pd.read_csv(self.config.y_test_encoded_path).values.flatten()\n",
    "        logger.info(\"Data Loaded\")\n",
    "        # Build a simple neural network model\n",
    "        model = Sequential([\n",
    "            Dense(128, activation='relu', input_shape=(X_train.shape[1],)),\n",
    "            Dropout(0.3),\n",
    "            Dense(64, activation='relu'),\n",
    "            Dropout(0.3),\n",
    "            Dense(1, activation='sigmoid')\n",
    "        ])\n",
    "  \n",
    "        # Compile the model\n",
    "        model.compile(optimizer=Adam(learning_rate=self.config.learning_rate),\n",
    "                    loss=self.config.loss,\n",
    "                    metrics=self.config.metrics)\n",
    "        logger.info(\"Model Compiled\")              \n",
    "        \n",
    "        # Train the model\n",
    "        history = model.fit(X_train, y_train_encoded,\n",
    "                            epochs=10,\n",
    "                            batch_size=32,\n",
    "                            validation_data=(X_test, y_test_encoded),\n",
    "                            verbose=1)\n",
    "        logger.info(\"Model training Completed\")              \n",
    "        # Save the model\n",
    "        model.save(os.path.join(self.config.root_dir, self.config.model_name))\n",
    "        logger.info(\"Model Saved\")      \n",
    "        return history  "
   ]
  },
  {
   "cell_type": "code",
   "execution_count": 19,
   "metadata": {},
   "outputs": [
    {
     "name": "stdout",
     "output_type": "stream",
     "text": [
      "[2024-06-22 12:17:09,231: INFO: common: yaml file: config\\config.yaml loaded successfully]\n",
      "[2024-06-22 12:17:09,235: INFO: common: yaml file: params.yaml loaded successfully]\n",
      "[2024-06-22 12:17:09,237: INFO: common: yaml file: schema.yaml loaded successfully]\n",
      "[2024-06-22 12:17:09,241: INFO: common: created directory at: artifacts]\n",
      "[2024-06-22 12:17:09,243: INFO: common: created directory at: artifacts/model_trainer]\n"
     ]
    },
    {
     "name": "stdout",
     "output_type": "stream",
     "text": [
      "[2024-06-22 12:17:52,365: INFO: 3583032377: Data Loaded]\n"
     ]
    },
    {
     "name": "stderr",
     "output_type": "stream",
     "text": [
      "c:\\Users\\N Ramaraju\\AppData\\Local\\Programs\\Python\\Python311\\Lib\\site-packages\\keras\\src\\layers\\core\\dense.py:87: UserWarning: Do not pass an `input_shape`/`input_dim` argument to a layer. When using Sequential models, prefer using an `Input(shape)` object as the first layer in the model instead.\n",
      "  super().__init__(activity_regularizer=activity_regularizer, **kwargs)\n"
     ]
    },
    {
     "name": "stdout",
     "output_type": "stream",
     "text": [
      "[2024-06-22 12:17:52,860: INFO: 3583032377: Model Compiled]\n",
      "Epoch 1/10\n",
      "\u001b[1m1157/1157\u001b[0m \u001b[32m━━━━━━━━━━━━━━━━━━━━\u001b[0m\u001b[37m\u001b[0m \u001b[1m15s\u001b[0m 11ms/step - accuracy: 0.9390 - loss: 0.1303 - val_accuracy: 0.9958 - val_loss: 0.0159\n",
      "Epoch 2/10\n",
      "\u001b[1m1157/1157\u001b[0m \u001b[32m━━━━━━━━━━━━━━━━━━━━\u001b[0m\u001b[37m\u001b[0m \u001b[1m11s\u001b[0m 10ms/step - accuracy: 0.9982 - loss: 0.0062 - val_accuracy: 0.9957 - val_loss: 0.0167\n",
      "Epoch 3/10\n",
      "\u001b[1m1157/1157\u001b[0m \u001b[32m━━━━━━━━━━━━━━━━━━━━\u001b[0m\u001b[37m\u001b[0m \u001b[1m12s\u001b[0m 10ms/step - accuracy: 0.9995 - loss: 0.0021 - val_accuracy: 0.9954 - val_loss: 0.0188\n",
      "Epoch 4/10\n",
      "\u001b[1m1157/1157\u001b[0m \u001b[32m━━━━━━━━━━━━━━━━━━━━\u001b[0m\u001b[37m\u001b[0m \u001b[1m11s\u001b[0m 10ms/step - accuracy: 0.9993 - loss: 0.0021 - val_accuracy: 0.9951 - val_loss: 0.0207\n",
      "Epoch 5/10\n",
      "\u001b[1m1157/1157\u001b[0m \u001b[32m━━━━━━━━━━━━━━━━━━━━\u001b[0m\u001b[37m\u001b[0m \u001b[1m11s\u001b[0m 9ms/step - accuracy: 0.9997 - loss: 9.3309e-04 - val_accuracy: 0.9945 - val_loss: 0.0233\n",
      "Epoch 6/10\n",
      "\u001b[1m1157/1157\u001b[0m \u001b[32m━━━━━━━━━━━━━━━━━━━━\u001b[0m\u001b[37m\u001b[0m \u001b[1m11s\u001b[0m 10ms/step - accuracy: 0.9998 - loss: 6.8361e-04 - val_accuracy: 0.9947 - val_loss: 0.0263\n",
      "Epoch 7/10\n",
      "\u001b[1m1157/1157\u001b[0m \u001b[32m━━━━━━━━━━━━━━━━━━━━\u001b[0m\u001b[37m\u001b[0m \u001b[1m15s\u001b[0m 13ms/step - accuracy: 0.9994 - loss: 0.0016 - val_accuracy: 0.9942 - val_loss: 0.0368\n",
      "Epoch 8/10\n",
      "\u001b[1m1157/1157\u001b[0m \u001b[32m━━━━━━━━━━━━━━━━━━━━\u001b[0m\u001b[37m\u001b[0m \u001b[1m14s\u001b[0m 12ms/step - accuracy: 0.9998 - loss: 7.4842e-04 - val_accuracy: 0.9945 - val_loss: 0.0322\n",
      "Epoch 9/10\n",
      "\u001b[1m1157/1157\u001b[0m \u001b[32m━━━━━━━━━━━━━━━━━━━━\u001b[0m\u001b[37m\u001b[0m \u001b[1m12s\u001b[0m 11ms/step - accuracy: 0.9998 - loss: 5.9548e-04 - val_accuracy: 0.9948 - val_loss: 0.0359\n",
      "Epoch 10/10\n",
      "\u001b[1m1157/1157\u001b[0m \u001b[32m━━━━━━━━━━━━━━━━━━━━\u001b[0m\u001b[37m\u001b[0m \u001b[1m12s\u001b[0m 10ms/step - accuracy: 0.9999 - loss: 4.7023e-04 - val_accuracy: 0.9955 - val_loss: 0.0260\n",
      "[2024-06-22 12:20:20,153: INFO: 3583032377: Model training Completed]\n",
      "[2024-06-22 12:20:20,158: WARNING: saving_api: You are saving your model as an HDF5 file via `model.save()` or `keras.saving.save_model(model)`. This file format is considered legacy. We recommend using instead the native Keras format, e.g. `model.save('my_model.keras')` or `keras.saving.save_model(model, 'my_model.keras')`. ]\n",
      "[2024-06-22 12:20:20,289: INFO: 3583032377: Model Saved]\n"
     ]
    }
   ],
   "source": [
    "try:\n",
    "    config = ConfigurationManager()\n",
    "    model_trainer_config = config.get_model_trainer_config()\n",
    "    model_trainer_config = ModelTrainer(config=model_trainer_config)\n",
    "    model_trainer_config.train_model()\n",
    "except Exception as e:\n",
    "    raise e"
   ]
  },
  {
   "cell_type": "code",
   "execution_count": null,
   "metadata": {},
   "outputs": [],
   "source": []
  }
 ],
 "metadata": {
  "kernelspec": {
   "display_name": "Python 3",
   "language": "python",
   "name": "python3"
  },
  "language_info": {
   "codemirror_mode": {
    "name": "ipython",
    "version": 3
   },
   "file_extension": ".py",
   "mimetype": "text/x-python",
   "name": "python",
   "nbconvert_exporter": "python",
   "pygments_lexer": "ipython3",
   "version": "3.11.4"
  }
 },
 "nbformat": 4,
 "nbformat_minor": 2
}
